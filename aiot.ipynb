{
 "cells": [
  {
   "cell_type": "markdown",
   "metadata": {},
   "source": [
    "# Artificial Intelligence of Things - Demonstration\n",
    "\n",
    "This document describes methods and mechanisms for the execution of\n",
    "Artificial Neural Networks in devices with low computational power."
   ]
  },
  {
   "cell_type": "markdown",
   "metadata": {},
   "source": [
    "## Dataset\n",
    "### Load the Yaleface dataset"
   ]
  },
  {
   "cell_type": "code",
   "execution_count": 1,
   "metadata": {},
   "outputs": [],
   "source": [
    "import src.dataset.yalefaces as yalefaces\n",
    "import numpy as np\n",
    "\n",
    "np.random.seed(99)"
   ]
  },
  {
   "cell_type": "code",
   "execution_count": 2,
   "metadata": {},
   "outputs": [
    {
     "name": "stdout",
     "output_type": "stream",
     "text": [
      "Loaded 11 faces from 15 individuals, a total of 165 images of size (243, 320) (77760 pixels).\n"
     ]
    }
   ],
   "source": [
    "import numpy as np\n",
    "X, y = yalefaces.load(\"data/yalefaces\", flatten=True)\n",
    "X = X.astype(\"float32\") / 255.0\n",
    "\n",
    "print(f\"Loaded {int(X.shape[0]/len(np.unique(y)))} faces from {len(np.unique(y))} individuals,\"\n",
    "f\" a total of {X.shape[0]} images of size {yalefaces.SHAPE} ({X[0].shape[0]} pixels).\")"
   ]
  },
  {
   "cell_type": "markdown",
   "metadata": {},
   "source": [
    "### Compress faces with Principal Ccomponent Analysis (PCA)"
   ]
  },
  {
   "cell_type": "code",
   "execution_count": 3,
   "metadata": {},
   "outputs": [
    {
     "name": "stdout",
     "output_type": "stream",
     "text": [
      "PCA generated 165 eigenfaces of size (243, 320).\n"
     ]
    }
   ],
   "source": [
    "from sklearn.decomposition import PCA\n",
    "\n",
    "num_faces, num_pixels = X.shape\n",
    "num_principal_components = int(num_faces)\n",
    "\n",
    "pca = PCA(n_components=num_principal_components)\n",
    "pca.fit(X)\n",
    "\n",
    "print(f\"PCA generated {num_principal_components} eigenfaces of size {yalefaces.SHAPE}.\")"
   ]
  },
  {
   "cell_type": "code",
   "execution_count": 4,
   "metadata": {},
   "outputs": [],
   "source": [
    "X_compressed = pca.transform(X)"
   ]
  },
  {
   "cell_type": "markdown",
   "metadata": {},
   "source": [
    "## Train MLP\n",
    "### Use GPU if NVIDIA CUDA is available"
   ]
  },
  {
   "cell_type": "code",
   "execution_count": 5,
   "metadata": {},
   "outputs": [
    {
     "name": "stdout",
     "output_type": "stream",
     "text": [
      "cuda\n"
     ]
    }
   ],
   "source": [
    "import torch\n",
    "device = torch.device('cuda' if torch.cuda.is_available() else 'cpu')\n",
    "\n",
    "print(device)"
   ]
  },
  {
   "cell_type": "markdown",
   "metadata": {},
   "source": [
    "### Create train and test datasets"
   ]
  },
  {
   "cell_type": "code",
   "execution_count": 6,
   "metadata": {},
   "outputs": [],
   "source": [
    "from torch.utils.data import TensorDataset\n",
    "from sklearn.model_selection import train_test_split\n",
    "\n",
    "X_train_compressed, X_test_compressed, y_train_compressed, y_test_compressed = train_test_split(X_compressed, y, test_size=0.2, random_state=42, shuffle=True, stratify=y)\n",
    "\n",
    "X_train = torch.Tensor(X_train_compressed)\n",
    "y_train = torch.LongTensor(y_train_compressed)\n",
    "train_dataset = TensorDataset(X_train, y_train)\n",
    "\n",
    "X_test = torch.Tensor(X_test_compressed)\n",
    "y_test = torch.LongTensor(y_test_compressed)\n",
    "test_dataset = TensorDataset(X_test, y_test)"
   ]
  },
  {
   "cell_type": "markdown",
   "metadata": {},
   "source": [
    "### Build a Multilayer Perceptron"
   ]
  },
  {
   "cell_type": "code",
   "execution_count": 7,
   "metadata": {},
   "outputs": [],
   "source": [
    "from src.models.mlp import MLP\n",
    "import torch.nn as nn\n",
    "\n",
    "model = MLP(in_dim=165, out_dim=15, hidden_sizes=[96, 48], activation=nn.ReLU)\n",
    "model = model.to(device)"
   ]
  },
  {
   "cell_type": "code",
   "execution_count": 8,
   "metadata": {},
   "outputs": [],
   "source": [
    "import torch\n",
    "import torch.nn as nn\n",
    "import torch.optim as optim\n",
    "\n",
    "optimizer = optim.Adam(model.parameters(), lr=1e-2, weight_decay=0.0001)"
   ]
  },
  {
   "cell_type": "code",
   "execution_count": 9,
   "metadata": {},
   "outputs": [],
   "source": [
    "import torch.nn.functional as F\n",
    "\n",
    "def train(model, device, train_loader, optimizer, loss_fn=F.cross_entropy):\n",
    "    model.train()\n",
    "\n",
    "    epoch_loss = 0\n",
    "    n_samples = 0\n",
    "\n",
    "    for batch_idx, (data, target) in enumerate(train_loader):\n",
    "        # prepare\n",
    "        data, target = data.to(device), target.to(device)\n",
    "        optimizer.zero_grad()\n",
    "        \n",
    "        # compute\n",
    "        output = model(data)\n",
    "        loss = loss_fn(output, target)\n",
    "\n",
    "        # record\n",
    "        epoch_loss += loss.item()\n",
    "        n_samples += output.size(0)\n",
    "\n",
    "        # adjust\n",
    "        loss.backward()\n",
    "        optimizer.step()\n",
    "\n",
    "    return epoch_loss, n_samples"
   ]
  },
  {
   "cell_type": "code",
   "execution_count": 10,
   "metadata": {},
   "outputs": [],
   "source": [
    "def test(model, device, test_loader):\n",
    "    with torch.no_grad():\n",
    "        model.train(False)\n",
    "        num_correct = 0\n",
    "        num_samples = 0\n",
    "\n",
    "        for batch_idx, (x, y) in enumerate(test_loader):\n",
    "            x = x.to(device)\n",
    "            y = y.to(device)\n",
    "\n",
    "            scores = model.forward(x)\n",
    "            _, y_out = scores.max(1)\n",
    "            \n",
    "            num_correct += (y_out == y).sum()\n",
    "            num_samples += y_out.size(0)\n",
    "        \n",
    "        acc = float(num_correct) / float(num_samples)\n",
    "    return acc"
   ]
  },
  {
   "cell_type": "code",
   "execution_count": 11,
   "metadata": {},
   "outputs": [],
   "source": [
    "import numpy as np\n",
    "from torch.utils.data import DataLoader\n",
    "\n",
    "train_accs= []\n",
    "train_losses = []\n",
    "\n",
    "for epoch in range(200):\n",
    "    # train\n",
    "    train_data = DataLoader(train_dataset, batch_size=64, shuffle=True)\n",
    "    err, n_train_samples = train(model, device, train_data, optimizer)\n",
    "    loss = float(err)/float(n_train_samples)\n",
    "    train_losses.append(loss)\n",
    "    \n",
    "    # evaluate\n",
    "    acc = test(model, device, train_data)\n",
    "    train_accs.append(acc)\n"
   ]
  },
  {
   "cell_type": "markdown",
   "metadata": {},
   "source": [
    "### Training loss"
   ]
  },
  {
   "cell_type": "code",
   "execution_count": 12,
   "metadata": {},
   "outputs": [
    {
     "data": {
      "text/plain": [
       "[<matplotlib.lines.Line2D at 0x7f1b11166dd0>]"
      ]
     },
     "execution_count": 12,
     "metadata": {},
     "output_type": "execute_result"
    },
    {
     "data": {
      "image/png": "[encoded data removed]",
      "text/plain": [
       "<Figure size 640x480 with 1 Axes>"
      ]
     },
     "metadata": {},
     "output_type": "display_data"
    }
   ],
   "source": [
    "import matplotlib.pyplot as plt\n",
    "\n",
    "plt.figure()\n",
    "plt.plot(train_losses)"
   ]
  },
  {
   "cell_type": "markdown",
   "metadata": {},
   "source": [
    "### Training accuracy"
   ]
  },
  {
   "cell_type": "code",
   "execution_count": 13,
   "metadata": {},
   "outputs": [
    {
     "data": {
      "text/plain": [
       "[<matplotlib.lines.Line2D at 0x7f1ab65395d0>]"
      ]
     },
     "execution_count": 13,
     "metadata": {},
     "output_type": "execute_result"
    },
    {
     "data": {
      "image/png": "[encoded data removed]",
      "text/plain": [
       "<Figure size 640x480 with 1 Axes>"
      ]
     },
     "metadata": {},
     "output_type": "display_data"
    }
   ],
   "source": [
    "import matplotlib.pyplot as plt\n",
    "\n",
    "plt.figure()\n",
    "plt.plot(train_accs)"
   ]
  },
  {
   "cell_type": "markdown",
   "metadata": {},
   "source": [
    "### Test accuracy"
   ]
  },
  {
   "cell_type": "code",
   "execution_count": 14,
   "metadata": {},
   "outputs": [
    {
     "name": "stdout",
     "output_type": "stream",
     "text": [
      "Test accuracy: 78.79\n"
     ]
    }
   ],
   "source": [
    "test_data = DataLoader(test_dataset, batch_size=len(test_dataset))\n",
    "acc = test(model, device, test_data)\n",
    "print(f\"Test accuracy: {acc * 100:.2f}\")\n"
   ]
  },
  {
   "cell_type": "markdown",
   "metadata": {},
   "source": [
    "## Quantize model\n",
    "### Prepare model for quantization"
   ]
  },
  {
   "cell_type": "markdown",
   "metadata": {},
   "source": [
    "Recall that our model has the following shape:\n",
    "\n",
    "```python\n",
    "model = nn.Sequential(\n",
    "    nn.Linear(165, 96, bias=True),\n",
    "    nn.ReLU(),\n",
    "    nn.Linear(96, 48, bias=True),\n",
    "    nn.ReLU(),\n",
    "    nn.Linear(48, 15, bias=False)\n",
    ")\n",
    "```"
   ]
  },
  {
   "cell_type": "code",
   "execution_count": 15,
   "metadata": {},
   "outputs": [],
   "source": [
    "import copy\n",
    "import torch\n",
    "from torch import nn\n",
    "\n",
    "# copy our original model\n",
    "qmodel_float = copy.deepcopy(model.net)\n",
    "qmodel_float.eval()\n",
    "\n",
    "# prepare layers\n",
    "torch.quantization.fuse_modules(qmodel_float, ['0', '1'], inplace=True)\n",
    "torch.quantization.fuse_modules(qmodel_float, ['2', '3'], inplace=True)\n",
    "\n",
    "# add quantization layers for input and output\n",
    "qmodel_float = nn.Sequential(\n",
    "    torch.quantization.QuantStub(),\n",
    "    *qmodel_float,\n",
    "    torch.quantization.DeQuantStub()\n",
    ")"
   ]
  },
  {
   "cell_type": "markdown",
   "metadata": {},
   "source": [
    "### Configure quantization"
   ]
  },
  {
   "cell_type": "code",
   "execution_count": 16,
   "metadata": {},
   "outputs": [
    {
     "data": {
      "text/plain": [
       "Sequential(\n",
       "  (0): QuantStub(\n",
       "    (activation_post_process): MinMaxObserver(min_val=inf, max_val=-inf)\n",
       "  )\n",
       "  (1): LinearReLU(\n",
       "    (0): Linear(in_features=165, out_features=96, bias=False)\n",
       "    (1): ReLU()\n",
       "    (activation_post_process): MinMaxObserver(min_val=inf, max_val=-inf)\n",
       "  )\n",
       "  (2): Identity()\n",
       "  (3): LinearReLU(\n",
       "    (0): Linear(in_features=96, out_features=48, bias=False)\n",
       "    (1): ReLU()\n",
       "    (activation_post_process): MinMaxObserver(min_val=inf, max_val=-inf)\n",
       "  )\n",
       "  (4): Identity()\n",
       "  (5): Linear(\n",
       "    in_features=48, out_features=15, bias=False\n",
       "    (activation_post_process): MinMaxObserver(min_val=inf, max_val=-inf)\n",
       "  )\n",
       "  (6): DeQuantStub()\n",
       ")"
      ]
     },
     "execution_count": 16,
     "metadata": {},
     "output_type": "execute_result"
    }
   ],
   "source": [
    "qmodel_float.qconfig = torch.quantization.default_qconfig\n",
    "qmodel_float=qmodel_float.to('cpu')\n",
    "\n",
    "torch.quantization.prepare(qmodel_float, inplace=True)"
   ]
  },
  {
   "cell_type": "markdown",
   "metadata": {},
   "source": [
    "### Quantize network"
   ]
  },
  {
   "cell_type": "code",
   "execution_count": 17,
   "metadata": {},
   "outputs": [],
   "source": [
    "# learn quantization parameters\n",
    "with torch.inference_mode():\n",
    "    for batch_idx, (x, y) in enumerate(test_data):\n",
    "        x,y = x.to('cpu'), y.to('cpu')\n",
    "        qmodel_float(x)\n",
    "\n",
    "# actually quantize weights\n",
    "qmodel = torch.quantization.convert(qmodel_float, inplace=False)"
   ]
  },
  {
   "cell_type": "markdown",
   "metadata": {},
   "source": [
    "### Weights size before and after quantization"
   ]
  },
  {
   "cell_type": "code",
   "execution_count": 18,
   "metadata": {},
   "outputs": [
    {
     "name": "stdout",
     "output_type": "stream",
     "text": [
      "Weight size before quantization: 4 byte(s)\n",
      "Weight size after quantization: 1 byte(s)\n"
     ]
    }
   ],
   "source": [
    "print(\"Weight size before quantization:\", qmodel_float[1][0].weight.element_size(), \"byte(s)\")\n",
    "print(\"Weight size after quantization:\", qmodel[1].weight().element_size(), \"byte(s)\")"
   ]
  },
  {
   "cell_type": "markdown",
   "metadata": {},
   "source": [
    "### Accuracy of the quantized model"
   ]
  },
  {
   "cell_type": "code",
   "execution_count": 19,
   "metadata": {},
   "outputs": [
    {
     "name": "stdout",
     "output_type": "stream",
     "text": [
      "Test accuracy: 78.79\n"
     ]
    }
   ],
   "source": [
    "test_data = DataLoader(test_dataset, batch_size=len(test_dataset))\n",
    "acc = test(qmodel, 'cpu', test_data)\n",
    "print(f\"Test accuracy: {acc * 100:.2f}\")"
   ]
  },
  {
   "cell_type": "markdown",
   "metadata": {},
   "source": [
    "### Model sizes in KB"
   ]
  },
  {
   "cell_type": "code",
   "execution_count": 20,
   "metadata": {},
   "outputs": [
    {
     "name": "stdout",
     "output_type": "stream",
     "text": [
      "Original : 86.051 KB\n",
      "Quantized: 24.900 KB\n"
     ]
    }
   ],
   "source": [
    "import os\n",
    "import torch\n",
    "\n",
    "def print_model_size(mdl, name):\n",
    "    torch.save(mdl.state_dict(), \"tmp.pt\")\n",
    "    print(f\"{name}: %.3f KB\" %(os.path.getsize(\"tmp.pt\")/1e3))\n",
    "    os.remove('tmp.pt')\n",
    "\n",
    "print_model_size(model, \"Original \")\n",
    "print_model_size(qmodel, \"Quantized\")"
   ]
  },
  {
   "cell_type": "markdown",
   "metadata": {},
   "source": [
    "## Export quantized model"
   ]
  },
  {
   "cell_type": "markdown",
   "metadata": {},
   "source": [
    "### Floating- to fixed-point conversion algorithm"
   ]
  },
  {
   "cell_type": "code",
   "execution_count": 30,
   "metadata": {},
   "outputs": [
    {
     "name": "stdout",
     "output_type": "stream",
     "text": [
      "Original: 73.8\n",
      "Quantized: 248\n",
      "Dequantized: 73.72247359156609\n"
     ]
    }
   ],
   "source": [
    "def quant_test():\n",
    "    scale = 0.390065997838974\n",
    "    zero_point = 59\n",
    "\n",
    "    # to be quantized: x\n",
    "    x = 73.8\n",
    "\n",
    "    qx = int((x / scale) + zero_point)\n",
    "    dqx = (qx - zero_point) * scale\n",
    "\n",
    "    print(f\"Original: {x}\")\n",
    "    print(f\"Quantized: {qx}\")\n",
    "    print(f\"Dequantized: {dqx}\")\n",
    "quant_test()"
   ]
  },
  {
   "cell_type": "markdown",
   "metadata": {},
   "source": [
    "### Read weights and quantization parameters"
   ]
  },
  {
   "cell_type": "code",
   "execution_count": 22,
   "metadata": {},
   "outputs": [],
   "source": [
    "model_params=qmodel_float.state_dict()\n",
    "qmodel_params = qmodel.state_dict()"
   ]
  },
  {
   "cell_type": "code",
   "execution_count": 23,
   "metadata": {},
   "outputs": [],
   "source": [
    "def get_weights(model_state_dict, layer_idx):\n",
    "    if f'{layer_idx}.0.weight' in model_state_dict.keys():\n",
    "        weights = model_state_dict[f'{layer_idx}.0.weight'].numpy()\n",
    "    elif f'{layer_idx}.weight' in model_state_dict.keys():\n",
    "        weights = model_state_dict[f'{layer_idx}.weight'].numpy()\n",
    "    else:\n",
    "        raise KeyError(f'{layer_idx}.0.weight or {layer_idx}.weight')\n",
    "    return weights\n",
    "\n",
    "def get_scale(qmodel_state_dict, layer_idx):\n",
    "    w_scale = qmodel_state_dict[f'{layer_idx}._packed_params._packed_params'][0][0].q_scale()\n",
    "    out_scale = qmodel_state_dict[f'{layer_idx}.scale']\n",
    "    return w_scale, out_scale\n",
    "\n",
    "def get_zero(qmodel_state_dict, layer_idx):\n",
    "    w_zero = qmodel_state_dict[f'{layer_idx}._packed_params._packed_params'][0][0].q_zero_point()\n",
    "    out_zero = qmodel_state_dict[f'{layer_idx}.zero_point']\n",
    "    return w_zero, out_zero"
   ]
  },
  {
   "cell_type": "markdown",
   "metadata": {},
   "source": [
    "### Export quantized weights"
   ]
  },
  {
   "cell_type": "code",
   "execution_count": 27,
   "metadata": {},
   "outputs": [
    {
     "name": "stdout",
     "output_type": "stream",
     "text": [
      "scale=0.0016495650634169579, zero=0\n",
      "\tmax(w)=0.20750048756599426, max(qw)=125, maxfp(qw)=125.79103088378906\n",
      "\tmin(w)=-0.21031954884529114, min(qw)=-127, minfp(qw)=-127.5\n",
      "scale=0.0017889449372887611, zero=0\n",
      "\tmax(w)=0.22809047996997833, max(qw)=127, maxfp(qw)=127.5\n",
      "\tmin(w)=-0.21122939884662628, min(qw)=-118, minfp(qw)=-118.07484436035156\n",
      "scale=0.002119332319125533, zero=0\n",
      "\tmax(w)=0.25924450159072876, max(qw)=122, maxfp(qw)=122.32366943359375\n",
      "\tmin(w)=-0.27021488547325134, min(qw)=-127, minfp(qw)=-127.50000762939453\n"
     ]
    }
   ],
   "source": [
    "import numpy as np\n",
    "\n",
    "layer_indexes = [1, 3, 5]\n",
    "with open('mlp_params.c', 'w') as source, open('mlp_params.h', 'w') as header:\n",
    "    header.write('#ifndef MLP_PARAMS\\n#define MLP_PARAMS\\n\\n')\n",
    "    header.write('#include <stdint.h>\\n\\n\\n')\n",
    "    \n",
    "    source.write('#include \"mlp_params.h\"\\n\\n')\n",
    "    \n",
    "    for layer in layer_indexes:\n",
    "        # get raw weights and quantization parameters\n",
    "        weights = get_weights(model_params, layer).flatten()\n",
    "        weights_scale, output_scale = get_scale(qmodel_params, layer)\n",
    "        weights_zero, output_zero = get_zero(qmodel_params, layer)\n",
    "        \n",
    "        header.write(f\"extern const int8_t layer_{layer}_weights[{len(weights)}];\\n\")\n",
    "        \n",
    "        qweights_fp = (weights - weights_zero) / weights_scale\n",
    "        qweights = (qweights_fp).astype(int)\n",
    "        \n",
    "        print(f\"scale={weights_scale}, zero={weights_zero}\")\n",
    "        maxi = np.argmax(weights)\n",
    "        print(f\"\\tmax(w)={weights[maxi]}, max(qw)={qweights[maxi]}, maxfp(qw)={qweights_fp[maxi]}\")\n",
    "\n",
    "        mini = np.argmin(weights)\n",
    "        print(f\"\\tmin(w)={weights[mini]}, min(qw)={qweights[mini]}, minfp(qw)={qweights_fp[mini]}\")\n",
    "\n",
    "        source.write(f\"const int8_t layer_{layer}_weights[{len(qweights)}] = {{\")\n",
    "        for i in range(len(qweights)-1):\n",
    "            source.write(f\"{qweights[i]}, \")\n",
    "        source.write(f\"{qweights[len(qweights)-1]}}};\\n\\n\")\n",
    "\n",
    "    header.write('\\n#endif // end of MLP_PARAMS\\n')"
   ]
  }
 ],
 "metadata": {
  "kernelspec": {
   "display_name": "Python 3.10.7 ('venv': venv)",
   "language": "python",
   "name": "python3"
  },
  "language_info": {
   "codemirror_mode": {
    "name": "ipython",
    "version": 3
   },
   "file_extension": ".py",
   "mimetype": "text/x-python",
   "name": "python",
   "nbconvert_exporter": "python",
   "pygments_lexer": "ipython3",
   "version": "3.10.7"
  },
  "orig_nbformat": 4,
  "vscode": {
   "interpreter": {
    "hash": "8d49e41cedb4d2b8ded917810122a7ef9cd3b4ce1bdb33db87dd80104225a604"
   }
  }
 },
 "nbformat": 4,
 "nbformat_minor": 2
}
