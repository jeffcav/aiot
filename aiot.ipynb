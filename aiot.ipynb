{
 "cells": [
  {
   "cell_type": "markdown",
   "metadata": {},
   "source": [
    "# Artificial Intelligence of Things - Demonstration\n",
    "\n",
    "This document describes methods and mechanisms for the execution of\n",
    "Artificial Neural Networks in devices with low computational power."
   ]
  },
  {
   "cell_type": "markdown",
   "metadata": {},
   "source": [
    "## Dataset\n",
    "### Load the Yaleface dataset"
   ]
  },
  {
   "cell_type": "code",
   "execution_count": 1,
   "metadata": {},
   "outputs": [],
   "source": [
    "import src.dataset.yalefaces as yalefaces\n",
    "import numpy as np\n",
    "\n",
    "np.random.seed(99)"
   ]
  },
  {
   "cell_type": "code",
   "execution_count": 2,
   "metadata": {},
   "outputs": [
    {
     "name": "stdout",
     "output_type": "stream",
     "text": [
      "Loaded 11 faces from 15 individuals, a total of 165 images of size (243, 320) (77760 pixels).\n"
     ]
    }
   ],
   "source": [
    "import numpy as np\n",
    "X, y = yalefaces.load(\"data/yalefaces\", flatten=True)\n",
    "X = X.astype(\"float32\") / 255.0\n",
    "\n",
    "print(f\"Loaded {int(X.shape[0]/len(np.unique(y)))} faces from {len(np.unique(y))} individuals,\"\n",
    "f\" a total of {X.shape[0]} images of size {yalefaces.SHAPE} ({X[0].shape[0]} pixels).\")"
   ]
  },
  {
   "cell_type": "markdown",
   "metadata": {},
   "source": [
    "### Compress faces with Principal Ccomponent Analysis (PCA)"
   ]
  },
  {
   "cell_type": "code",
   "execution_count": 3,
   "metadata": {},
   "outputs": [
    {
     "name": "stdout",
     "output_type": "stream",
     "text": [
      "PCA generated 165 eigenfaces of size (243, 320).\n"
     ]
    }
   ],
   "source": [
    "from sklearn.decomposition import PCA\n",
    "\n",
    "num_faces, num_pixels = X.shape\n",
    "num_principal_components = int(num_faces)\n",
    "\n",
    "pca = PCA(n_components=num_principal_components)\n",
    "pca.fit(X)\n",
    "\n",
    "print(f\"PCA generated {num_principal_components} eigenfaces of size {yalefaces.SHAPE}.\")"
   ]
  },
  {
   "cell_type": "code",
   "execution_count": 4,
   "metadata": {},
   "outputs": [],
   "source": [
    "X_compressed = pca.transform(X)"
   ]
  },
  {
   "cell_type": "markdown",
   "metadata": {},
   "source": [
    "## Train MLP\n",
    "### Use GPU if NVIDIA CUDA is available"
   ]
  },
  {
   "cell_type": "code",
   "execution_count": 5,
   "metadata": {},
   "outputs": [
    {
     "name": "stdout",
     "output_type": "stream",
     "text": [
      "cuda\n"
     ]
    }
   ],
   "source": [
    "import torch\n",
    "device = torch.device('cuda' if torch.cuda.is_available() else 'cpu')\n",
    "\n",
    "print(device)"
   ]
  },
  {
   "cell_type": "markdown",
   "metadata": {},
   "source": [
    "### Create train and test datasets"
   ]
  },
  {
   "cell_type": "code",
   "execution_count": 6,
   "metadata": {},
   "outputs": [],
   "source": [
    "from torch.utils.data import TensorDataset\n",
    "from sklearn.model_selection import train_test_split\n",
    "\n",
    "X_train_compressed, X_test_compressed, y_train_compressed, y_test_compressed = train_test_split(X_compressed, y, test_size=0.2, random_state=42, shuffle=True, stratify=y)\n",
    "\n",
    "X_train = torch.Tensor(X_train_compressed)\n",
    "y_train = torch.LongTensor(y_train_compressed)\n",
    "train_dataset = TensorDataset(X_train, y_train)\n",
    "\n",
    "X_test = torch.Tensor(X_test_compressed)\n",
    "y_test = torch.LongTensor(y_test_compressed)\n",
    "test_dataset = TensorDataset(X_test, y_test)"
   ]
  },
  {
   "cell_type": "markdown",
   "metadata": {},
   "source": [
    "### Build a Multilayer Perceptron"
   ]
  },
  {
   "cell_type": "code",
   "execution_count": 7,
   "metadata": {},
   "outputs": [],
   "source": [
    "from src.models.mlp import MLP\n",
    "import torch.nn as nn\n",
    "\n",
    "model = MLP(in_dim=165, out_dim=15, hidden_sizes=[96, 48], activation=nn.ReLU)\n",
    "model = model.to(device)"
   ]
  },
  {
   "cell_type": "code",
   "execution_count": 8,
   "metadata": {},
   "outputs": [],
   "source": [
    "import torch\n",
    "import torch.nn as nn\n",
    "import torch.optim as optim\n",
    "\n",
    "optimizer = optim.Adam(model.parameters(), lr=1e-2, weight_decay=0.0001)"
   ]
  },
  {
   "cell_type": "code",
   "execution_count": 9,
   "metadata": {},
   "outputs": [],
   "source": [
    "import torch.nn.functional as F\n",
    "\n",
    "def train(model, device, train_loader, optimizer, loss_fn=F.cross_entropy):\n",
    "    model.train()\n",
    "\n",
    "    epoch_loss = 0\n",
    "    n_samples = 0\n",
    "\n",
    "    for batch_idx, (data, target) in enumerate(train_loader):\n",
    "        # prepare\n",
    "        data, target = data.to(device), target.to(device)\n",
    "        optimizer.zero_grad()\n",
    "        \n",
    "        # compute\n",
    "        output = model(data)\n",
    "        loss = loss_fn(output, target)\n",
    "\n",
    "        # record\n",
    "        epoch_loss += loss.item()\n",
    "        n_samples += output.size(0)\n",
    "\n",
    "        # adjust\n",
    "        loss.backward()\n",
    "        optimizer.step()\n",
    "\n",
    "    return epoch_loss, n_samples"
   ]
  },
  {
   "cell_type": "code",
   "execution_count": 10,
   "metadata": {},
   "outputs": [],
   "source": [
    "def test(model, device, test_loader):\n",
    "    with torch.no_grad():\n",
    "        model.train(False)\n",
    "        num_correct = 0\n",
    "        num_samples = 0\n",
    "\n",
    "        for batch_idx, (x, y) in enumerate(test_loader):\n",
    "            x = x.to(device)\n",
    "            y = y.to(device)\n",
    "\n",
    "            scores = model.forward(x)\n",
    "            _, y_out = scores.max(1)\n",
    "            \n",
    "            num_correct += (y_out == y).sum()\n",
    "            num_samples += y_out.size(0)\n",
    "        \n",
    "        acc = float(num_correct) / float(num_samples)\n",
    "    return acc"
   ]
  },
  {
   "cell_type": "code",
   "execution_count": 11,
   "metadata": {},
   "outputs": [],
   "source": [
    "import numpy as np\n",
    "from torch.utils.data import DataLoader\n",
    "\n",
    "train_accs= []\n",
    "train_losses = []\n",
    "\n",
    "for epoch in range(200):\n",
    "    # train\n",
    "    train_data = DataLoader(train_dataset, batch_size=64, shuffle=True)\n",
    "    err, n_train_samples = train(model, device, train_data, optimizer)\n",
    "    loss = float(err)/float(n_train_samples)\n",
    "    train_losses.append(loss)\n",
    "    \n",
    "    # evaluate\n",
    "    acc = test(model, device, train_data)\n",
    "    train_accs.append(acc)\n"
   ]
  },
  {
   "cell_type": "markdown",
   "metadata": {},
   "source": [
    "### Training loss"
   ]
  },
  {
   "cell_type": "code",
   "execution_count": 12,
   "metadata": {},
   "outputs": [
    {
     "data": {
      "text/plain": [
       "[<matplotlib.lines.Line2D at 0x7fca27d76e30>]"
      ]
     },
     "execution_count": 12,
     "metadata": {},
     "output_type": "execute_result"
    },
    {
     "data": {
      "image/png": "[encoded data removed]",
      "text/plain": [
       "<Figure size 640x480 with 1 Axes>"
      ]
     },
     "metadata": {},
     "output_type": "display_data"
    }
   ],
   "source": [
    "import matplotlib.pyplot as plt\n",
    "\n",
    "plt.figure()\n",
    "plt.plot(train_losses)"
   ]
  },
  {
   "cell_type": "markdown",
   "metadata": {},
   "source": [
    "### Training accuracy"
   ]
  },
  {
   "cell_type": "code",
   "execution_count": 13,
   "metadata": {},
   "outputs": [
    {
     "data": {
      "text/plain": [
       "[<matplotlib.lines.Line2D at 0x7fc9cd146830>]"
      ]
     },
     "execution_count": 13,
     "metadata": {},
     "output_type": "execute_result"
    },
    {
     "data": {
      "image/png": "[encoded data removed]",
      "text/plain": [
       "<Figure size 640x480 with 1 Axes>"
      ]
     },
     "metadata": {},
     "output_type": "display_data"
    }
   ],
   "source": [
    "import matplotlib.pyplot as plt\n",
    "\n",
    "plt.figure()\n",
    "plt.plot(train_accs)"
   ]
  },
  {
   "cell_type": "markdown",
   "metadata": {},
   "source": [
    "### Test accuracy"
   ]
  },
  {
   "cell_type": "code",
   "execution_count": 14,
   "metadata": {},
   "outputs": [
    {
     "name": "stdout",
     "output_type": "stream",
     "text": [
      "Test accuracy: 81.82\n"
     ]
    }
   ],
   "source": [
    "test_data = DataLoader(test_dataset, batch_size=len(test_dataset))\n",
    "acc = test(model, device, test_data)\n",
    "print(f\"Test accuracy: {acc * 100:.2f}\")\n"
   ]
  },
  {
   "cell_type": "markdown",
   "metadata": {},
   "source": [
    "## Quantize model\n",
    "### Prepare model for quantization"
   ]
  },
  {
   "cell_type": "markdown",
   "metadata": {},
   "source": [
    "Recall that our model has the following shape:\n",
    "\n",
    "```python\n",
    "model = nn.Sequential(\n",
    "    nn.Linear(165, 96, bias=True),\n",
    "    nn.ReLU(),\n",
    "    nn.Linear(96, 48, bias=True),\n",
    "    nn.ReLU(),\n",
    "    nn.Linear(48, 15, bias=False)\n",
    ")\n",
    "```"
   ]
  },
  {
   "cell_type": "code",
   "execution_count": 15,
   "metadata": {},
   "outputs": [],
   "source": [
    "import copy\n",
    "import torch\n",
    "from torch import nn\n",
    "\n",
    "# copy our original model\n",
    "qmodel_float = copy.deepcopy(model.net)\n",
    "qmodel_float.eval()\n",
    "\n",
    "# prepare layers\n",
    "torch.quantization.fuse_modules(qmodel_float, ['0', '1'], inplace=True)\n",
    "torch.quantization.fuse_modules(qmodel_float, ['2', '3'], inplace=True)\n",
    "\n",
    "# add quantization layers for input and output\n",
    "qmodel_float = nn.Sequential(\n",
    "    torch.quantization.QuantStub(),\n",
    "    *qmodel_float,\n",
    "    torch.quantization.DeQuantStub()\n",
    ")"
   ]
  },
  {
   "cell_type": "markdown",
   "metadata": {},
   "source": [
    "### Configure quantization"
   ]
  },
  {
   "cell_type": "code",
   "execution_count": 16,
   "metadata": {},
   "outputs": [
    {
     "data": {
      "text/plain": [
       "Sequential(\n",
       "  (0): QuantStub(\n",
       "    (activation_post_process): MinMaxObserver(min_val=inf, max_val=-inf)\n",
       "  )\n",
       "  (1): LinearReLU(\n",
       "    (0): Linear(in_features=165, out_features=96, bias=False)\n",
       "    (1): ReLU()\n",
       "    (activation_post_process): MinMaxObserver(min_val=inf, max_val=-inf)\n",
       "  )\n",
       "  (2): Identity()\n",
       "  (3): LinearReLU(\n",
       "    (0): Linear(in_features=96, out_features=48, bias=False)\n",
       "    (1): ReLU()\n",
       "    (activation_post_process): MinMaxObserver(min_val=inf, max_val=-inf)\n",
       "  )\n",
       "  (4): Identity()\n",
       "  (5): Linear(\n",
       "    in_features=48, out_features=15, bias=False\n",
       "    (activation_post_process): MinMaxObserver(min_val=inf, max_val=-inf)\n",
       "  )\n",
       "  (6): DeQuantStub()\n",
       ")"
      ]
     },
     "execution_count": 16,
     "metadata": {},
     "output_type": "execute_result"
    }
   ],
   "source": [
    "qmodel_float.qconfig = torch.quantization.default_qconfig\n",
    "qmodel_float=qmodel_float.to('cpu')\n",
    "\n",
    "torch.quantization.prepare(qmodel_float, inplace=True)"
   ]
  },
  {
   "cell_type": "markdown",
   "metadata": {},
   "source": [
    "### Quantize network"
   ]
  },
  {
   "cell_type": "code",
   "execution_count": 17,
   "metadata": {},
   "outputs": [],
   "source": [
    "# learn quantization parameters\n",
    "with torch.inference_mode():\n",
    "    for batch_idx, (x, y) in enumerate(test_data):\n",
    "        x,y = x.to('cpu'), y.to('cpu')\n",
    "        qmodel_float(x)\n",
    "\n",
    "# actually quantize weights\n",
    "qmodel = torch.quantization.convert(qmodel_float, inplace=False)"
   ]
  },
  {
   "cell_type": "markdown",
   "metadata": {},
   "source": [
    "### Weights size before and after quantization"
   ]
  },
  {
   "cell_type": "code",
   "execution_count": 18,
   "metadata": {},
   "outputs": [
    {
     "name": "stdout",
     "output_type": "stream",
     "text": [
      "Weight size before quantization: 4 byte(s)\n",
      "Weight size after quantization: 1 byte(s)\n"
     ]
    }
   ],
   "source": [
    "print(\"Weight size before quantization:\", qmodel_float[1][0].weight.element_size(), \"byte(s)\")\n",
    "print(\"Weight size after quantization:\", qmodel[1].weight().element_size(), \"byte(s)\")"
   ]
  },
  {
   "cell_type": "markdown",
   "metadata": {},
   "source": [
    "### Accuracy of the quantized model"
   ]
  },
  {
   "cell_type": "code",
   "execution_count": 19,
   "metadata": {},
   "outputs": [
    {
     "name": "stdout",
     "output_type": "stream",
     "text": [
      "Test accuracy: 78.79\n"
     ]
    }
   ],
   "source": [
    "test_data = DataLoader(test_dataset, batch_size=len(test_dataset))\n",
    "acc = test(qmodel, 'cpu', test_data)\n",
    "print(f\"Test accuracy: {acc * 100:.2f}\")"
   ]
  },
  {
   "cell_type": "markdown",
   "metadata": {},
   "source": [
    "### Model sizes in KB"
   ]
  },
  {
   "cell_type": "code",
   "execution_count": 20,
   "metadata": {},
   "outputs": [
    {
     "name": "stdout",
     "output_type": "stream",
     "text": [
      "Original : 86.051 KB\n",
      "Quantized: 24.900 KB\n"
     ]
    }
   ],
   "source": [
    "import os\n",
    "import torch\n",
    "\n",
    "def print_model_size(mdl, name):\n",
    "    torch.save(mdl.state_dict(), \"tmp.pt\")\n",
    "    print(f\"{name}: %.3f KB\" %(os.path.getsize(\"tmp.pt\")/1e3))\n",
    "    os.remove('tmp.pt')\n",
    "\n",
    "print_model_size(model, \"Original \")\n",
    "print_model_size(qmodel, \"Quantized\")"
   ]
  },
  {
   "cell_type": "markdown",
   "metadata": {},
   "source": [
    "## Export quantized model"
   ]
  },
  {
   "cell_type": "markdown",
   "metadata": {},
   "source": [
    "### Floating- to fixed-point conversion algorithm"
   ]
  },
  {
   "cell_type": "code",
   "execution_count": 21,
   "metadata": {},
   "outputs": [
    {
     "name": "stdout",
     "output_type": "stream",
     "text": [
      "Original: 73\n",
      "Quantized: 246\n",
      "Dequantized: 72.94234159588814\n"
     ]
    }
   ],
   "source": [
    "# scale=0.390065997838974, zero_point=59\n",
    "s = 0.390065997838974\n",
    "z = 59\n",
    "\n",
    "# to be quantized: x\n",
    "x = 73\n",
    "\n",
    "qx = round((x/s)+z)\n",
    "dqx = (qx-z)*s\n",
    "\n",
    "print(f\"Original: {x}\")\n",
    "print(f\"Quantized: {qx}\")\n",
    "print(f\"Dequantized: {dqx}\")"
   ]
  },
  {
   "cell_type": "markdown",
   "metadata": {},
   "source": [
    "### Read weights and quantization parameters"
   ]
  },
  {
   "cell_type": "code",
   "execution_count": 22,
   "metadata": {},
   "outputs": [],
   "source": [
    "model_params=qmodel_float.state_dict()"
   ]
  },
  {
   "cell_type": "code",
   "execution_count": 23,
   "metadata": {},
   "outputs": [
    {
     "data": {
      "text/plain": [
       "OrderedDict([('0.activation_post_process.eps', tensor([1.1921e-07])),\n",
       "             ('0.activation_post_process.min_val', tensor(-64.7021)),\n",
       "             ('0.activation_post_process.max_val', tensor(89.3256)),\n",
       "             ('1.0.weight',\n",
       "              tensor([[-8.5280e-02,  2.3521e-03, -8.3315e-02,  ...,  5.5971e-08,\n",
       "                        1.2918e-08, -1.7495e-07],\n",
       "                      [-1.0333e-01,  2.8432e-02, -3.8504e-02,  ..., -7.5666e-08,\n",
       "                        6.2811e-08,  4.6508e-07],\n",
       "                      [-3.5493e-02, -4.4640e-02,  1.0966e-02,  ..., -1.2909e-07,\n",
       "                       -2.6232e-07, -3.7944e-07],\n",
       "                      ...,\n",
       "                      [ 1.1109e-02, -4.1541e-02,  7.4070e-03,  ...,  1.2304e-07,\n",
       "                        7.9837e-08,  6.3136e-08],\n",
       "                      [ 6.4905e-02,  2.0859e-02, -1.6522e-01,  ...,  4.4794e-08,\n",
       "                        7.6903e-08, -7.7207e-08],\n",
       "                      [ 2.4909e-02, -2.6287e-02, -2.2010e-02,  ...,  6.2623e-08,\n",
       "                       -5.1053e-08,  1.7630e-07]])),\n",
       "             ('1.activation_post_process.eps', tensor([1.1921e-07])),\n",
       "             ('1.activation_post_process.min_val', tensor(0.)),\n",
       "             ('1.activation_post_process.max_val', tensor(21.6364)),\n",
       "             ('3.0.weight',\n",
       "              tensor([[-0.0128, -0.0219,  0.1425,  ..., -0.1361,  0.0163,  0.0683],\n",
       "                      [-0.0299, -0.0364, -0.0924,  ...,  0.0879,  0.1255,  0.1276],\n",
       "                      [-0.0362,  0.0116, -0.0292,  ..., -0.0438,  0.0744,  0.0612],\n",
       "                      ...,\n",
       "                      [ 0.1467,  0.0790,  0.1396,  ...,  0.0919, -0.1657, -0.0768],\n",
       "                      [-0.0429, -0.0483,  0.0313,  ..., -0.0227,  0.2069, -0.0473],\n",
       "                      [ 0.1397,  0.0571,  0.1633,  ...,  0.1132, -0.0251,  0.0426]])),\n",
       "             ('3.activation_post_process.eps', tensor([1.1921e-07])),\n",
       "             ('3.activation_post_process.min_val', tensor(0.)),\n",
       "             ('3.activation_post_process.max_val', tensor(21.1512)),\n",
       "             ('5.weight',\n",
       "              tensor([[ 0.0319,  0.1406,  0.1061,  0.0018,  0.1051, -0.1108, -0.0273, -0.1440,\n",
       "                       -0.1459, -0.1777,  0.1376, -0.1250, -0.1442,  0.0609, -0.0688,  0.1780,\n",
       "                        0.2030,  0.1527,  0.0102,  0.0791, -0.0230, -0.1236,  0.0052,  0.0706,\n",
       "                        0.0675, -0.1073, -0.0309, -0.1151, -0.1993, -0.0022, -0.1011, -0.1380,\n",
       "                       -0.1438, -0.1073, -0.1301,  0.0373, -0.1577, -0.1073, -0.1217, -0.0119,\n",
       "                       -0.0713, -0.1259, -0.1653,  0.1053, -0.0072, -0.0111, -0.1089,  0.0375],\n",
       "                      [-0.1135, -0.1098,  0.1844, -0.0312,  0.0377, -0.1472,  0.0180, -0.0836,\n",
       "                       -0.0899, -0.1698, -0.0612, -0.1996, -0.0101, -0.0637, -0.1902, -0.0044,\n",
       "                        0.0795, -0.0457,  0.0933, -0.1026, -0.0756, -0.1818, -0.0484, -0.0517,\n",
       "                       -0.0237,  0.0895,  0.0042,  0.1980, -0.0272,  0.1435,  0.1939,  0.0752,\n",
       "                       -0.1239, -0.1803,  0.1243,  0.0483, -0.0125, -0.1701, -0.0432,  0.0821,\n",
       "                       -0.1306,  0.2403, -0.0586, -0.1651,  0.1001,  0.0588, -0.1921, -0.1390],\n",
       "                      [ 0.2114,  0.0824, -0.1513,  0.1825,  0.0946,  0.1271,  0.0147, -0.0801,\n",
       "                       -0.0613, -0.2425,  0.0466,  0.0280,  0.1488,  0.0014,  0.0888,  0.0080,\n",
       "                       -0.1251, -0.1924, -0.1026,  0.2954, -0.0514,  0.2011, -0.0963, -0.0604,\n",
       "                        0.0349, -0.0526, -0.0574, -0.0143, -0.1363, -0.0655, -0.0725,  0.0748,\n",
       "                        0.0582, -0.1451, -0.2320, -0.0243, -0.0874,  0.2069, -0.0312,  0.0843,\n",
       "                       -0.1095, -0.1011, -0.0567, -0.0471, -0.0088, -0.1856, -0.1979,  0.0285],\n",
       "                      [-0.1395, -0.1308, -0.0253, -0.1828,  0.1178, -0.1126,  0.0061, -0.0113,\n",
       "                       -0.1336, -0.0710,  0.1245, -0.1843, -0.0283, -0.0444, -0.2106, -0.1353,\n",
       "                        0.1191, -0.0092, -0.1682,  0.0162, -0.0873,  0.1167, -0.0398,  0.0916,\n",
       "                        0.0440,  0.1378, -0.0729, -0.2022, -0.0286, -0.1932, -0.0238, -0.0929,\n",
       "                       -0.1161,  0.1320, -0.1669,  0.0130,  0.0562, -0.2528,  0.0564,  0.0859,\n",
       "                       -0.2173,  0.0519,  0.0906, -0.1838, -0.0226,  0.2618, -0.0503, -0.0144],\n",
       "                      [-0.1930, -0.1480,  0.1134,  0.0186, -0.2488, -0.0296, -0.0579,  0.0066,\n",
       "                       -0.1771, -0.0874, -0.0088,  0.0356, -0.0712, -0.0742, -0.2003, -0.0869,\n",
       "                        0.0625, -0.0048, -0.0227, -0.0137,  0.2014, -0.1095, -0.0207, -0.1642,\n",
       "                       -0.0448, -0.0568, -0.0274,  0.2011, -0.1852, -0.1406, -0.0222, -0.0472,\n",
       "                       -0.1527,  0.0556,  0.0948,  0.2383, -0.0686,  0.0252, -0.1394, -0.0950,\n",
       "                       -0.0514,  0.0715,  0.1404, -0.2296, -0.0217, -0.1284,  0.2795, -0.0454],\n",
       "                      [-0.1766,  0.0217, -0.1248, -0.0256, -0.0863, -0.0274, -0.0008,  0.0786,\n",
       "                        0.1547, -0.1145, -0.2536,  0.0309, -0.0790, -0.0053, -0.1658, -0.0588,\n",
       "                        0.0666, -0.0201, -0.1498,  0.1059,  0.1188, -0.1645, -0.0765, -0.0310,\n",
       "                        0.0215, -0.0418, -0.0772, -0.1078,  0.1036, -0.0122,  0.0511, -0.1041,\n",
       "                       -0.1003,  0.0422, -0.0467, -0.0318, -0.0609,  0.1088, -0.1090, -0.1355,\n",
       "                       -0.0514, -0.0971,  0.0891,  0.1501, -0.0057, -0.1559,  0.0698, -0.1554],\n",
       "                      [-0.0632, -0.0387, -0.0437, -0.0533,  0.0940,  0.1725, -0.0731,  0.0843,\n",
       "                        0.1446, -0.0259,  0.1413,  0.1301, -0.0195, -0.0030, -0.0834, -0.0322,\n",
       "                       -0.1051,  0.0865, -0.0717, -0.1241, -0.0336, -0.0027,  0.2004, -0.2292,\n",
       "                       -0.0253, -0.0648, -0.0046, -0.0443, -0.0798, -0.2237, -0.0416, -0.0413,\n",
       "                       -0.0297,  0.1410,  0.0369, -0.0963, -0.2311,  0.0299, -0.0781,  0.0205,\n",
       "                        0.1285, -0.1132, -0.2080, -0.0498,  0.0083, -0.0100, -0.0160, -0.1137],\n",
       "                      [ 0.1518, -0.1093, -0.1601, -0.1666,  0.0214, -0.1360,  0.0652,  0.0842,\n",
       "                       -0.1303,  0.0633,  0.0130,  0.0078, -0.1923,  0.1354, -0.0489,  0.0069,\n",
       "                       -0.0311, -0.0899, -0.0776, -0.1133,  0.1445, -0.0244,  0.0016, -0.1237,\n",
       "                        0.0387, -0.0883,  0.0902, -0.0893,  0.0430,  0.0274, -0.1276,  0.0549,\n",
       "                        0.1270, -0.1511,  0.0003,  0.1026, -0.3066,  0.0130,  0.1432,  0.0655,\n",
       "                        0.0623,  0.0919,  0.0289,  0.0967, -0.0406,  0.1081,  0.0478,  0.0778],\n",
       "                      [-0.0267,  0.0510, -0.1664, -0.1611, -0.2523,  0.0423,  0.0244,  0.1191,\n",
       "                        0.0092, -0.0355, -0.0605,  0.2248,  0.0014, -0.0627, -0.0666, -0.0949,\n",
       "                       -0.2664, -0.1637, -0.0337, -0.0908, -0.1944, -0.1392, -0.1089,  0.0076,\n",
       "                       -0.0060, -0.0648, -0.0267, -0.1002,  0.2557,  0.0975, -0.0430, -0.1410,\n",
       "                        0.0089, -0.0335, -0.1083, -0.0350,  0.0202,  0.1821,  0.0648, -0.1586,\n",
       "                       -0.0673, -0.1701,  0.1902, -0.2119, -0.0092, -0.0637,  0.1347,  0.1230],\n",
       "                      [-0.0539,  0.1812, -0.1018,  0.0044, -0.2113, -0.0906,  0.0095, -0.1284,\n",
       "                        0.0416, -0.0924,  0.2365, -0.1247, -0.0752,  0.0004,  0.0266, -0.0847,\n",
       "                       -0.1605, -0.0227, -0.0757, -0.1595, -0.2498, -0.0612, -0.0897,  0.2260,\n",
       "                       -0.0383, -0.0351, -0.1109, -0.1608,  0.0482, -0.1247, -0.1101, -0.1612,\n",
       "                       -0.0247, -0.1762,  0.1166, -0.1310,  0.0839, -0.0619,  0.1403, -0.1836,\n",
       "                        0.0359, -0.0992,  0.1224, -0.1040, -0.0022,  0.1808, -0.0524, -0.1756],\n",
       "                      [-0.1242, -0.1122, -0.0050, -0.1432, -0.1841, -0.0696,  0.1544, -0.1638,\n",
       "                       -0.0961, -0.0035,  0.0055, -0.0809, -0.0869, -0.0279, -0.1910, -0.1134,\n",
       "                       -0.0256, -0.0248,  0.0137, -0.0367, -0.2543,  0.1405, -0.0463, -0.1720,\n",
       "                       -0.0371,  0.0034,  0.0243, -0.0980, -0.1819, -0.1114, -0.1122,  0.1894,\n",
       "                       -0.1199,  0.1800, -0.0326, -0.0657,  0.1974,  0.0677, -0.1263,  0.1262,\n",
       "                        0.0687, -0.0548,  0.0153, -0.1981,  0.0021, -0.1691, -0.0710,  0.2251],\n",
       "                      [-0.1870, -0.1311,  0.0151,  0.1219,  0.1842, -0.0456, -0.0507, -0.0743,\n",
       "                       -0.2664, -0.2143, -0.0924, -0.1271, -0.0391,  0.0315,  0.1817, -0.1644,\n",
       "                       -0.2180, -0.0890, -0.0544, -0.1101, -0.0850, -0.2053, -0.0027, -0.1969,\n",
       "                       -0.0087,  0.1796, -0.0327,  0.1553, -0.0560,  0.0255,  0.1016, -0.0580,\n",
       "                       -0.2206,  0.0978,  0.1616, -0.1523,  0.0395, -0.1771, -0.0335,  0.0966,\n",
       "                        0.0612, -0.1407,  0.0203, -0.1089, -0.0330,  0.1172,  0.0584,  0.1044],\n",
       "                      [-0.0075, -0.0392, -0.0087, -0.1447, -0.0971, -0.1137,  0.0375, -0.0963,\n",
       "                        0.0399,  0.2216,  0.0321, -0.1403,  0.0309, -0.0467,  0.2000, -0.0701,\n",
       "                       -0.0794, -0.2004,  0.2113,  0.0229,  0.0915,  0.0431, -0.1110, -0.0438,\n",
       "                       -0.0059, -0.1210, -0.0091, -0.1098, -0.0587, -0.2183, -0.1162,  0.1318,\n",
       "                        0.1174,  0.0314, -0.0868, -0.1915,  0.1318, -0.0023,  0.1248, -0.0638,\n",
       "                       -0.0117, -0.0706, -0.1803,  0.0659, -0.0187, -0.0824, -0.0019, -0.1243],\n",
       "                      [ 0.1456,  0.0725, -0.0554, -0.0979, -0.0599, -0.1553, -0.0361,  0.2095,\n",
       "                        0.1048, -0.0402, -0.2131, -0.0234,  0.1138, -0.0059, -0.1806, -0.0021,\n",
       "                       -0.2117, -0.1511,  0.1942, -0.1220, -0.1351, -0.2090, -0.0945, -0.0054,\n",
       "                        0.0371, -0.0072, -0.1351,  0.1011, -0.2033,  0.0596, -0.0166, -0.0834,\n",
       "                       -0.1515,  0.1206, -0.1026,  0.0789, -0.0410,  0.1599, -0.0666, -0.0285,\n",
       "                       -0.0128, -0.0155, -0.1704, -0.0403, -0.0676, -0.1250,  0.1222, -0.1622],\n",
       "                      [ 0.0688, -0.2697, -0.1259, -0.1575,  0.0515, -0.0986,  0.0472, -0.1082,\n",
       "                        0.1307,  0.1004,  0.0667,  0.1680,  0.0341, -0.1788,  0.0603,  0.1277,\n",
       "                       -0.1347, -0.2112, -0.0875, -0.1049,  0.1547, -0.1488,  0.1745,  0.1825,\n",
       "                        0.0349, -0.1694, -0.1498, -0.0028, -0.2014,  0.1217, -0.0535, -0.0274,\n",
       "                       -0.0619, -0.1599,  0.1643,  0.0036, -0.1181,  0.0826, -0.1118, -0.1633,\n",
       "                       -0.2286, -0.1034,  0.0205, -0.1384,  0.0036,  0.2009, -0.1215, -0.2906]])),\n",
       "             ('5.activation_post_process.eps', tensor([1.1921e-07])),\n",
       "             ('5.activation_post_process.min_val', tensor(-18.8953)),\n",
       "             ('5.activation_post_process.max_val', tensor(16.3915))])"
      ]
     },
     "execution_count": 23,
     "metadata": {},
     "output_type": "execute_result"
    }
   ],
   "source": [
    "model_params"
   ]
  },
  {
   "cell_type": "code",
   "execution_count": 24,
   "metadata": {},
   "outputs": [],
   "source": [
    "def get_layer_weights(model_state_dict, layer_idx):\n",
    "    if f'{layer_idx}.0.weight' in model_state_dict.keys():\n",
    "        weights = model_state_dict[f'{layer_idx}.0.weight'].numpy()\n",
    "    elif f'{layer_idx}.weight' in model_state_dict.keys():\n",
    "        weights = model_state_dict[f'{layer_idx}.weight'].numpy()\n",
    "    else:\n",
    "        raise KeyError(f'{layer_idx}.0.weight or {layer_idx}.weight')\n",
    "    return weights\n",
    "\n",
    "def get_layer_min(model_state_dict, layer_idx):\n",
    "    return model_state_dict[f'{layer_idx}.activation_post_process.min_val'].numpy()\n",
    "\n",
    "def get_layer_max(model_state_dict, layer_idx):\n",
    "    return model_state_dict[f'{layer_idx}.activation_post_process.max_val'].numpy()\n",
    "\n",
    "def get_scale(model_state_dict, layer_idx):\n",
    "    return model_state_dict[f'{layer_idx}.activation_post_process.max_val'].numpy()"
   ]
  },
  {
   "cell_type": "markdown",
   "metadata": {},
   "source": [
    "### Export quantized weights"
   ]
  },
  {
   "cell_type": "code",
   "execution_count": 25,
   "metadata": {},
   "outputs": [
    {
     "name": "stdout",
     "output_type": "stream",
     "text": [
      "scale=0.08484856100643383, min=0.0, max=21.636383056640625, zero=-127.0, W[0]=-0.08528020232915878\n",
      "scale=0.08294599944469976, min=0.0, max=21.151229858398438, zero=-127.0, W[0]=-0.012770934030413628\n",
      "scale=0.13837990854300705, min=-18.89534568786621, max=16.391530990600586, zero=10.0, W[0]=0.03193146362900734\n"
     ]
    }
   ],
   "source": [
    "import numpy as np\n",
    "\n",
    "layer_indexes = [1, 3, 5]\n",
    "with open('mlp_params.c', 'w') as source, open('mlp_params.h', 'w') as header:\n",
    "    header.write('#ifndef MLP_PARAMS\\n#define MLP_PARAMS\\n\\n')\n",
    "    header.write('#include <stdint.h>\\n\\n\\n')\n",
    "    \n",
    "    source.write('#include \"mlp_params.h\"\\n\\n')\n",
    "    \n",
    "    for layer in layer_indexes:\n",
    "        # get raw weights and quantization parameters\n",
    "        weights = get_layer_weights(model_params, layer).flatten()\n",
    "        xmin = get_layer_min(model_params, layer)\n",
    "        xmax = get_layer_max(model_params, layer)\n",
    "        \n",
    "        header.write(f\"extern const int8_t layer_{layer}_weights[{len(weights)}];\\n\")\n",
    "        \n",
    "        # compute quantization parameters\n",
    "        num_bits = 8\n",
    "        qmin = -127\n",
    "        qmax = 128\n",
    "        eps = 1.1921e-07\n",
    "        # scale = (2 * np.maximum(np.abs(amin), amax)) / (2**num_bits)\n",
    "        # zero = amin\n",
    "\n",
    "        # FROM: https://pytorch.org/docs/stable/generated/torch.quantization.observer.MinMaxObserver.html#torch.quantization.observer.MinMaxObserver\n",
    "        scale = (xmax - xmin)/(qmax - qmin)\n",
    "        zero = qmin - np.around(xmin/scale)\n",
    "\n",
    "        # FROM: https://pytorch.org/docs/stable/_modules/torch/ao/quantization/observer.html#MinMaxObserver.calculate_qparams\n",
    "        # max_val_pos = np.amax(np.array([-xmin, xmax]))\n",
    "        # scale = max_val_pos / (float(qmax - qmin) / 2)\n",
    "        # scale = np.amax(np.array([scale, eps]))\n",
    "        # zero = np.array(0.0)\n",
    "\n",
    "        print(f\"scale={scale}, min={xmin}, max={xmax}, zero={zero}, W[0]={weights[0]}\")\n",
    "\n",
    "        # FIXME: convertion is not working properly yet...\n",
    "        \n",
    "        weights_fp = (np.around((weights / scale) + zero)).astype(int)\n",
    "\n",
    "        # weights_fp = (w - zero) * scale # this should be the reverse operation actually...\n",
    "\n",
    "        source.write(f\"const int8_t layer_{layer}_weights[{len(weights)}] = {{\")\n",
    "        for i in range(len(weights)-1):\n",
    "            source.write(f\"{weights_fp[i]}, \")\n",
    "        source.write(f\"{weights_fp[len(weights)-1]}}};\\n\\n\")\n",
    "\n",
    "    header.write('\\n#endif // end of MLP_PARAMS\\n')\n",
    "\n",
    "        "
   ]
  },
  {
   "cell_type": "markdown",
   "metadata": {},
   "source": [
    "### Experimenting with layer0:"
   ]
  },
  {
   "cell_type": "code",
   "execution_count": 26,
   "metadata": {},
   "outputs": [
    {
     "name": "stdout",
     "output_type": "stream",
     "text": [
      "scale=0.16969712201286766, min=0.0, max=21.636383056640625, zero=0.0\n",
      "\tW[0]=-0.08528020232915878, Wq[0]=-1\n",
      "\tW[1]=0.0023521280381828547, Wq[1]=0\n",
      "\tW[2]=-0.08331505954265594, Wq[2]=0\n",
      "\tW[3]=-0.10155779868364334, Wq[3]=-1\n"
     ]
    }
   ],
   "source": [
    "import numpy as np\n",
    "\n",
    "layer_indexes = [1]\n",
    "with open('mlp_params.c', 'w') as source, open('mlp_params.h', 'w') as header:\n",
    "    header.write('#ifndef MLP_PARAMS\\n#define MLP_PARAMS\\n\\n')\n",
    "    header.write('#include <stdint.h>\\n\\n\\n')\n",
    "    \n",
    "    source.write('#include \"mlp_params.h\"\\n\\n')\n",
    "    \n",
    "    for layer in layer_indexes:\n",
    "        # get raw weights and quantization parameters\n",
    "        weights = get_layer_weights(model_params, layer).flatten()\n",
    "        xmin = get_layer_min(model_params, layer)\n",
    "        xmax = get_layer_max(model_params, layer)\n",
    "        \n",
    "        header.write(f\"extern const int8_t layer_{layer}_weights[{len(weights)}];\\n\")\n",
    "        \n",
    "        # compute quantization parameters\n",
    "        num_bits = 8\n",
    "        qmin = -127\n",
    "        qmax = 128\n",
    "        eps = 1.1921e-07\n",
    "        \n",
    "        \n",
    "\n",
    "        # FROM: https://pytorch.org/docs/stable/generated/torch.quantization.observer.MinMaxObserver.html#torch.quantization.observer.MinMaxObserver\n",
    "        scale = (xmax - xmin)/(qmax - qmin)\n",
    "        \n",
    "        scale = 2 * np.maximum(np.abs(xmin), xmax) / (qmax - qmin)\n",
    "        zero = 0.0\n",
    "        # zero = qmin - np.around(xmin/scale)\n",
    "\n",
    "        # FROM: https://pytorch.org/docs/stable/_modules/torch/ao/quantization/observer.html#MinMaxObserver.calculate_qparams\n",
    "        # max_val_pos = np.amax(np.array([-xmin, xmax]))\n",
    "        # scale = max_val_pos / (float(qmax - qmin) / 2)\n",
    "        # scale = np.amax(np.array([scale, eps]))\n",
    "        # zero = np.array(0.0)\n",
    "\n",
    "        # FIXME: convertion is not working properly yet...\n",
    "        weights_fp = (np.around((weights / scale) + zero)).astype(int)\n",
    "        # weights_fp = (weights - zero) * scale\n",
    "        \n",
    "        print(f\"scale={scale}, min={xmin}, max={xmax}, zero={zero}\")\n",
    "        for i in range(4):\n",
    "            print(f\"\\tW[{i}]={weights[i]}, Wq[{i}]={weights_fp[i]}\")\n",
    "\n",
    "        # weights_fp = (weights - zero) * scale # this should be the reverse operation actually...\n",
    "\n",
    "        source.write(f\"const int8_t layer_{layer}_weights[{len(weights)}] = {{\")\n",
    "        for i in range(len(weights)-1):\n",
    "            source.write(f\"{weights_fp[i]}, \")\n",
    "        source.write(f\"{weights_fp[len(weights)-1]}}};\\n\\n\")\n",
    "\n",
    "    header.write('\\n#endif // end of MLP_PARAMS\\n')"
   ]
  },
  {
   "cell_type": "code",
   "execution_count": 27,
   "metadata": {},
   "outputs": [
    {
     "name": "stdout",
     "output_type": "stream",
     "text": [
      "0.22388823\n",
      "-0.26871186\n"
     ]
    }
   ],
   "source": [
    "layer=1\n",
    "weights = get_layer_weights(model_params, layer).flatten()\n",
    "xmin = get_layer_min(model_params, layer)\n",
    "xmax = get_layer_max(model_params, layer)\n",
    "\n",
    "print(np.amax(weights))\n",
    "print(np.amin(weights))"
   ]
  },
  {
   "cell_type": "code",
   "execution_count": 28,
   "metadata": {},
   "outputs": [
    {
     "name": "stdout",
     "output_type": "stream",
     "text": [
      "OrderedDict([('0.scale', tensor([1.2128])), ('0.zero_point', tensor([53])), ('1.scale', tensor(0.1704)), ('1.zero_point', tensor(0)), ('1._packed_params.dtype', torch.qint8), ('1._packed_params._packed_params', (tensor([[-0.0843,  0.0021, -0.0843,  ...,  0.0000,  0.0000,  0.0000],\n",
      "        [-0.1033,  0.0274, -0.0379,  ...,  0.0000,  0.0000,  0.0000],\n",
      "        [-0.0358, -0.0443,  0.0105,  ...,  0.0000,  0.0000,  0.0000],\n",
      "        ...,\n",
      "        [ 0.0105, -0.0422,  0.0084,  ...,  0.0000,  0.0000,  0.0000],\n",
      "        [ 0.0653,  0.0211, -0.1644,  ...,  0.0000,  0.0000,  0.0000],\n",
      "        [ 0.0253, -0.0253, -0.0211,  ...,  0.0000,  0.0000,  0.0000]],\n",
      "       size=(96, 165), dtype=torch.qint8,\n",
      "       quantization_scheme=torch.per_tensor_affine, scale=0.0021075441036373377,\n",
      "       zero_point=0), None)), ('3.scale', tensor(0.1665)), ('3.zero_point', tensor(0)), ('3._packed_params.dtype', torch.qint8), ('3._packed_params._packed_params', (tensor([[-0.0118, -0.0216,  0.1435,  ..., -0.1356,  0.0157,  0.0688],\n",
      "        [-0.0295, -0.0373, -0.0924,  ...,  0.0884,  0.1258,  0.1278],\n",
      "        [-0.0354,  0.0118, -0.0295,  ..., -0.0432,  0.0747,  0.0609],\n",
      "        ...,\n",
      "        [ 0.1474,  0.0786,  0.1395,  ...,  0.0924, -0.1651, -0.0767],\n",
      "        [-0.0432, -0.0491,  0.0314,  ..., -0.0236,  0.2064, -0.0472],\n",
      "        [ 0.1395,  0.0570,  0.1631,  ...,  0.1140, -0.0256,  0.0432]],\n",
      "       size=(48, 96), dtype=torch.qint8,\n",
      "       quantization_scheme=torch.per_tensor_affine, scale=0.001965465722605586,\n",
      "       zero_point=0), None)), ('5.scale', tensor(0.2778)), ('5.zero_point', tensor(68)), ('5._packed_params.dtype', torch.qint8), ('5._packed_params._packed_params', (tensor([[ 0.0313,  0.1395,  0.1058,  0.0024,  0.1058, -0.1106, -0.0264, -0.1443,\n",
      "         -0.1467, -0.1779,  0.1371, -0.1250, -0.1443,  0.0601, -0.0697,  0.1779,\n",
      "          0.2020,  0.1539,  0.0096,  0.0793, -0.0240, -0.1226,  0.0048,  0.0697,\n",
      "          0.0673, -0.1082, -0.0313, -0.1154, -0.1996, -0.0024, -0.1010, -0.1371,\n",
      "         -0.1443, -0.1082, -0.1298,  0.0385, -0.1587, -0.1082, -0.1226, -0.0120,\n",
      "         -0.0721, -0.1250, -0.1659,  0.1058, -0.0072, -0.0120, -0.1082,  0.0385],\n",
      "        [-0.1130, -0.1106,  0.1851, -0.0313,  0.0385, -0.1467,  0.0168, -0.0842,\n",
      "         -0.0890, -0.1707, -0.0601, -0.1996, -0.0096, -0.0625, -0.1900, -0.0048,\n",
      "          0.0793, -0.0457,  0.0938, -0.1034, -0.0745, -0.1827, -0.0481, -0.0505,\n",
      "         -0.0240,  0.0890,  0.0048,  0.1972, -0.0264,  0.1443,  0.1948,  0.0745,\n",
      "         -0.1250, -0.1803,  0.1250,  0.0481, -0.0120, -0.1707, -0.0433,  0.0818,\n",
      "         -0.1298,  0.2405, -0.0577, -0.1659,  0.1010,  0.0577, -0.1924, -0.1395],\n",
      "        [ 0.2116,  0.0818, -0.1515,  0.1827,  0.0938,  0.1274,  0.0144, -0.0793,\n",
      "         -0.0625, -0.2429,  0.0457,  0.0289,  0.1491,  0.0024,  0.0890,  0.0072,\n",
      "         -0.1250, -0.1924, -0.1034,  0.2958, -0.0505,  0.2020, -0.0962, -0.0601,\n",
      "          0.0361, -0.0529, -0.0577, -0.0144, -0.1371, -0.0649, -0.0721,  0.0745,\n",
      "          0.0577, -0.1443, -0.2308, -0.0240, -0.0866,  0.2068, -0.0313,  0.0842,\n",
      "         -0.1106, -0.1010, -0.0577, -0.0481, -0.0096, -0.1851, -0.1972,  0.0289],\n",
      "        [-0.1395, -0.1298, -0.0264, -0.1827,  0.1178, -0.1130,  0.0072, -0.0120,\n",
      "         -0.1347, -0.0721,  0.1250, -0.1851, -0.0289, -0.0433, -0.2116, -0.1347,\n",
      "          0.1202, -0.0096, -0.1683,  0.0168, -0.0866,  0.1178, -0.0409,  0.0914,\n",
      "          0.0433,  0.1371, -0.0721, -0.2020, -0.0289, -0.1924, -0.0240, -0.0938,\n",
      "         -0.1154,  0.1322, -0.1659,  0.0120,  0.0553, -0.2525,  0.0553,  0.0866,\n",
      "         -0.2164,  0.0529,  0.0914, -0.1827, -0.0216,  0.2621, -0.0505, -0.0144],\n",
      "        [-0.1924, -0.1491,  0.1130,  0.0192, -0.2477, -0.0289, -0.0577,  0.0072,\n",
      "         -0.1779, -0.0866, -0.0096,  0.0361, -0.0721, -0.0745, -0.1996, -0.0866,\n",
      "          0.0625, -0.0048, -0.0216, -0.0144,  0.2020, -0.1106, -0.0216, -0.1635,\n",
      "         -0.0457, -0.0577, -0.0264,  0.2020, -0.1851, -0.1395, -0.0216, -0.0481,\n",
      "         -0.1515,  0.0553,  0.0938,  0.2380, -0.0697,  0.0240, -0.1395, -0.0962,\n",
      "         -0.0505,  0.0721,  0.1395, -0.2308, -0.0216, -0.1274,  0.2789, -0.0457],\n",
      "        [-0.1755,  0.0216, -0.1250, -0.0264, -0.0866, -0.0264,  0.0000,  0.0793,\n",
      "          0.1539, -0.1154, -0.2525,  0.0313, -0.0793, -0.0048, -0.1659, -0.0577,\n",
      "          0.0673, -0.0192, -0.1491,  0.1058,  0.1178, -0.1635, -0.0769, -0.0313,\n",
      "          0.0216, -0.0409, -0.0769, -0.1082,  0.1034, -0.0120,  0.0505, -0.1034,\n",
      "         -0.1010,  0.0433, -0.0457, -0.0313, -0.0601,  0.1082, -0.1082, -0.1347,\n",
      "         -0.0505, -0.0962,  0.0890,  0.1491, -0.0048, -0.1563,  0.0697, -0.1563],\n",
      "        [-0.0625, -0.0385, -0.0433, -0.0529,  0.0938,  0.1731, -0.0721,  0.0842,\n",
      "          0.1443, -0.0264,  0.1419,  0.1298, -0.0192, -0.0024, -0.0842, -0.0313,\n",
      "         -0.1058,  0.0866, -0.0721, -0.1250, -0.0337, -0.0024,  0.1996, -0.2284,\n",
      "         -0.0264, -0.0649, -0.0048, -0.0433, -0.0793, -0.2236, -0.0409, -0.0409,\n",
      "         -0.0289,  0.1419,  0.0361, -0.0962, -0.2308,  0.0289, -0.0793,  0.0216,\n",
      "          0.1274, -0.1130, -0.2092, -0.0505,  0.0072, -0.0096, -0.0168, -0.1130],\n",
      "        [ 0.1515, -0.1082, -0.1611, -0.1659,  0.0216, -0.1371,  0.0649,  0.0842,\n",
      "         -0.1298,  0.0625,  0.0120,  0.0072, -0.1924,  0.1347, -0.0481,  0.0072,\n",
      "         -0.0313, -0.0890, -0.0769, -0.1130,  0.1443, -0.0240,  0.0024, -0.1226,\n",
      "          0.0385, -0.0890,  0.0890, -0.0890,  0.0433,  0.0264, -0.1274,  0.0553,\n",
      "          0.1274, -0.1515,  0.0000,  0.1034, -0.3078,  0.0120,  0.1443,  0.0649,\n",
      "          0.0625,  0.0914,  0.0289,  0.0962, -0.0409,  0.1082,  0.0481,  0.0769],\n",
      "        [-0.0264,  0.0505, -0.1659, -0.1611, -0.2525,  0.0433,  0.0240,  0.1202,\n",
      "          0.0096, -0.0361, -0.0601,  0.2236,  0.0024, -0.0625, -0.0673, -0.0938,\n",
      "         -0.2669, -0.1635, -0.0337, -0.0914, -0.1948, -0.1395, -0.1082,  0.0072,\n",
      "         -0.0048, -0.0649, -0.0264, -0.1010,  0.2549,  0.0986, -0.0433, -0.1419,\n",
      "          0.0096, -0.0337, -0.1082, -0.0361,  0.0192,  0.1827,  0.0649, -0.1587,\n",
      "         -0.0673, -0.1707,  0.1900, -0.2116, -0.0096, -0.0625,  0.1347,  0.1226],\n",
      "        [-0.0529,  0.1803, -0.1010,  0.0048, -0.2116, -0.0914,  0.0096, -0.1274,\n",
      "          0.0409, -0.0914,  0.2356, -0.1250, -0.0745,  0.0000,  0.0264, -0.0842,\n",
      "         -0.1611, -0.0216, -0.0745, -0.1587, -0.2501, -0.0601, -0.0890,  0.2260,\n",
      "         -0.0385, -0.0361, -0.1106, -0.1611,  0.0481, -0.1250, -0.1106, -0.1611,\n",
      "         -0.0240, -0.1755,  0.1178, -0.1298,  0.0842, -0.0625,  0.1395, -0.1827,\n",
      "          0.0361, -0.0986,  0.1226, -0.1034, -0.0024,  0.1803, -0.0529, -0.1755],\n",
      "        [-0.1250, -0.1130, -0.0048, -0.1443, -0.1851, -0.0697,  0.1539, -0.1635,\n",
      "         -0.0962, -0.0024,  0.0048, -0.0818, -0.0866, -0.0289, -0.1900, -0.1130,\n",
      "         -0.0264, -0.0240,  0.0144, -0.0361, -0.2549,  0.1395, -0.0457, -0.1731,\n",
      "         -0.0361,  0.0024,  0.0240, -0.0986, -0.1827, -0.1106, -0.1130,  0.1900,\n",
      "         -0.1202,  0.1803, -0.0337, -0.0649,  0.1972,  0.0673, -0.1274,  0.1250,\n",
      "          0.0697, -0.0553,  0.0144, -0.1972,  0.0024, -0.1683, -0.0721,  0.2260],\n",
      "        [-0.1876, -0.1322,  0.0144,  0.1226,  0.1851, -0.0457, -0.0505, -0.0745,\n",
      "         -0.2669, -0.2140, -0.0914, -0.1274, -0.0385,  0.0313,  0.1827, -0.1635,\n",
      "         -0.2188, -0.0890, -0.0553, -0.1106, -0.0842, -0.2044, -0.0024, -0.1972,\n",
      "         -0.0096,  0.1803, -0.0337,  0.1563, -0.0553,  0.0264,  0.1010, -0.0577,\n",
      "         -0.2212,  0.0986,  0.1611, -0.1515,  0.0385, -0.1779, -0.0337,  0.0962,\n",
      "          0.0601, -0.1419,  0.0192, -0.1082, -0.0337,  0.1178,  0.0577,  0.1034],\n",
      "        [-0.0072, -0.0385, -0.0096, -0.1443, -0.0962, -0.1130,  0.0385, -0.0962,\n",
      "          0.0409,  0.2212,  0.0313, -0.1395,  0.0313, -0.0457,  0.1996, -0.0697,\n",
      "         -0.0793, -0.1996,  0.2116,  0.0240,  0.0914,  0.0433, -0.1106, -0.0433,\n",
      "         -0.0048, -0.1202, -0.0096, -0.1106, -0.0577, -0.2188, -0.1154,  0.1322,\n",
      "          0.1178,  0.0313, -0.0866, -0.1924,  0.1322, -0.0024,  0.1250, -0.0649,\n",
      "         -0.0120, -0.0697, -0.1803,  0.0649, -0.0192, -0.0818, -0.0024, -0.1250],\n",
      "        [ 0.1467,  0.0721, -0.0553, -0.0986, -0.0601, -0.1563, -0.0361,  0.2092,\n",
      "          0.1058, -0.0409, -0.2140, -0.0240,  0.1130, -0.0048, -0.1803, -0.0024,\n",
      "         -0.2116, -0.1515,  0.1948, -0.1226, -0.1347, -0.2092, -0.0938, -0.0048,\n",
      "          0.0361, -0.0072, -0.1347,  0.1010, -0.2044,  0.0601, -0.0168, -0.0842,\n",
      "         -0.1515,  0.1202, -0.1034,  0.0793, -0.0409,  0.1587, -0.0673, -0.0289,\n",
      "         -0.0120, -0.0144, -0.1707, -0.0409, -0.0673, -0.1250,  0.1226, -0.1611],\n",
      "        [ 0.0697, -0.2693, -0.1250, -0.1563,  0.0505, -0.0986,  0.0481, -0.1082,\n",
      "          0.1298,  0.1010,  0.0673,  0.1683,  0.0337, -0.1779,  0.0601,  0.1274,\n",
      "         -0.1347, -0.2116, -0.0866, -0.1058,  0.1539, -0.1491,  0.1755,  0.1827,\n",
      "          0.0361, -0.1683, -0.1491, -0.0024, -0.2020,  0.1226, -0.0529, -0.0264,\n",
      "         -0.0625, -0.1611,  0.1635,  0.0024, -0.1178,  0.0818, -0.1106, -0.1635,\n",
      "         -0.2284, -0.1034,  0.0216, -0.1395,  0.0024,  0.2020, -0.1226, -0.2909]],\n",
      "       size=(15, 48), dtype=torch.qint8,\n",
      "       quantization_scheme=torch.per_tensor_affine, scale=0.002404525177553296,\n",
      "       zero_point=0), None))])\n"
     ]
    }
   ],
   "source": [
    "qmodel_params = qmodel.state_dict()\n",
    "print(qmodel_params)"
   ]
  },
  {
   "cell_type": "code",
   "execution_count": 29,
   "metadata": {},
   "outputs": [
    {
     "name": "stdout",
     "output_type": "stream",
     "text": [
      "0.0021075441036373377\n"
     ]
    }
   ],
   "source": [
    "layer_idx = 1\n",
    "t = qmodel_params[f'{layer_idx}._packed_params._packed_params']\n",
    "print(t[0][0].q_scale())"
   ]
  },
  {
   "cell_type": "code",
   "execution_count": 30,
   "metadata": {},
   "outputs": [
    {
     "ename": "KeyError",
     "evalue": "'1.activation_post_process.max_val'",
     "output_type": "error",
     "traceback": [
      "\u001b[0;31m---------------------------------------------------------------------------\u001b[0m",
      "\u001b[0;31mKeyError\u001b[0m                                  Traceback (most recent call last)",
      "Cell \u001b[0;32mIn [30], line 15\u001b[0m\n\u001b[1;32m     13\u001b[0m xmin \u001b[39m=\u001b[39m get_layer_min(model_params, layer)\n\u001b[1;32m     14\u001b[0m xmax \u001b[39m=\u001b[39m get_layer_max(model_params, layer)\n\u001b[0;32m---> 15\u001b[0m scale \u001b[39m=\u001b[39m get_scale(qmodel_params, layer)\n\u001b[1;32m     17\u001b[0m header\u001b[39m.\u001b[39mwrite(\u001b[39mf\u001b[39m\u001b[39m\"\u001b[39m\u001b[39mextern const int8_t layer_\u001b[39m\u001b[39m{\u001b[39;00mlayer\u001b[39m}\u001b[39;00m\u001b[39m_weights[\u001b[39m\u001b[39m{\u001b[39;00m\u001b[39mlen\u001b[39m(weights)\u001b[39m}\u001b[39;00m\u001b[39m];\u001b[39m\u001b[39m\\n\u001b[39;00m\u001b[39m\"\u001b[39m)\n\u001b[1;32m     19\u001b[0m \u001b[39m# compute quantization parameters\u001b[39;00m\n",
      "Cell \u001b[0;32mIn [24], line 17\u001b[0m, in \u001b[0;36mget_scale\u001b[0;34m(model_state_dict, layer_idx)\u001b[0m\n\u001b[1;32m     16\u001b[0m \u001b[39mdef\u001b[39;00m \u001b[39mget_scale\u001b[39m(model_state_dict, layer_idx):\n\u001b[0;32m---> 17\u001b[0m     \u001b[39mreturn\u001b[39;00m model_state_dict[\u001b[39mf\u001b[39;49m\u001b[39m'\u001b[39;49m\u001b[39m{\u001b[39;49;00mlayer_idx\u001b[39m}\u001b[39;49;00m\u001b[39m.activation_post_process.max_val\u001b[39;49m\u001b[39m'\u001b[39;49m]\u001b[39m.\u001b[39mnumpy()\n",
      "\u001b[0;31mKeyError\u001b[0m: '1.activation_post_process.max_val'"
     ]
    }
   ],
   "source": [
    "import numpy as np\n",
    "\n",
    "layer_indexes = [1]\n",
    "with open('mlp_params.c', 'w') as source, open('mlp_params.h', 'w') as header:\n",
    "    header.write('#ifndef MLP_PARAMS\\n#define MLP_PARAMS\\n\\n')\n",
    "    header.write('#include <stdint.h>\\n\\n\\n')\n",
    "    \n",
    "    source.write('#include \"mlp_params.h\"\\n\\n')\n",
    "    \n",
    "    for layer in layer_indexes:\n",
    "        # get raw weights and quantization parameters\n",
    "        weights = get_layer_weights(model_params, layer).flatten()\n",
    "        xmin = get_layer_min(model_params, layer)\n",
    "        xmax = get_layer_max(model_params, layer)\n",
    "        scale = get_scale(qmodel_params, layer) # FIXME implement get_scale using the cell code above\n",
    "        \n",
    "        header.write(f\"extern const int8_t layer_{layer}_weights[{len(weights)}];\\n\")\n",
    "        \n",
    "        # compute quantization parameters\n",
    "        num_bits = 8\n",
    "        qmin = -127\n",
    "        qmax = 128\n",
    "        eps = 1.1921e-07\n",
    "        \n",
    "        \n",
    "\n",
    "        # FROM: https://pytorch.org/docs/stable/generated/torch.quantization.observer.MinMaxObserver.html#torch.quantization.observer.MinMaxObserver\n",
    "        scale = (xmax - xmin)/(qmax - qmin)\n",
    "        \n",
    "        scale = 2 * np.maximum(np.abs(xmin), xmax) / (qmax - qmin)\n",
    "        zero = 0.0\n",
    "        # zero = qmin - np.around(xmin/scale)\n",
    "\n",
    "        # FROM: https://pytorch.org/docs/stable/_modules/torch/ao/quantization/observer.html#MinMaxObserver.calculate_qparams\n",
    "        # max_val_pos = np.amax(np.array([-xmin, xmax]))\n",
    "        # scale = max_val_pos / (float(qmax - qmin) / 2)\n",
    "        # scale = np.amax(np.array([scale, eps]))\n",
    "        # zero = np.array(0.0)\n",
    "\n",
    "        # FIXME: convertion is not working properly yet...\n",
    "        weights_fp = (np.around((weights / scale) + zero)).astype(int)\n",
    "        # weights_fp = (weights - zero) * scale\n",
    "        \n",
    "        print(f\"scale={scale}, min={xmin}, max={xmax}, zero={zero}\")\n",
    "        for i in range(4):\n",
    "            print(f\"\\tW[{i}]={weights[i]}, Wq[{i}]={weights_fp[i]}\")\n",
    "\n",
    "        # weights_fp = (weights - zero) * scale # this should be the reverse operation actually...\n",
    "\n",
    "        source.write(f\"const int8_t layer_{layer}_weights[{len(weights)}] = {{\")\n",
    "        for i in range(len(weights)-1):\n",
    "            source.write(f\"{weights_fp[i]}, \")\n",
    "        source.write(f\"{weights_fp[len(weights)-1]}}};\\n\\n\")\n",
    "\n",
    "    header.write('\\n#endif // end of MLP_PARAMS\\n')"
   ]
  }
 ],
 "metadata": {
  "kernelspec": {
   "display_name": "Python 3.10.7 ('venv': venv)",
   "language": "python",
   "name": "python3"
  },
  "language_info": {
   "codemirror_mode": {
    "name": "ipython",
    "version": 3
   },
   "file_extension": ".py",
   "mimetype": "text/x-python",
   "name": "python",
   "nbconvert_exporter": "python",
   "pygments_lexer": "ipython3",
   "version": "3.10.7"
  },
  "orig_nbformat": 4,
  "vscode": {
   "interpreter": {
    "hash": "8d49e41cedb4d2b8ded917810122a7ef9cd3b4ce1bdb33db87dd80104225a604"
   }
  }
 },
 "nbformat": 4,
 "nbformat_minor": 2
}
